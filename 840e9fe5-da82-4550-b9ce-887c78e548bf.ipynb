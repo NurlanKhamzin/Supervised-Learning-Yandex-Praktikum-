{
 "cells": [
  {
   "cell_type": "markdown",
   "metadata": {
    "toc": true
   },
   "source": [
    "<h1>Содержание<span class=\"tocSkip\"></span></h1>\n",
    "<div class=\"toc\"><ul class=\"toc-item\"><li><span><a href=\"#Подготовка-данных\" data-toc-modified-id=\"Подготовка-данных-1\"><span class=\"toc-item-num\">1&nbsp;&nbsp;</span>Подготовка данных</a></span></li><li><span><a href=\"#Исследование-задачи\" data-toc-modified-id=\"Исследование-задачи-2\"><span class=\"toc-item-num\">2&nbsp;&nbsp;</span>Исследование задачи</a></span></li><li><span><a href=\"#Борьба-с-дисбалансом\" data-toc-modified-id=\"Борьба-с-дисбалансом-3\"><span class=\"toc-item-num\">3&nbsp;&nbsp;</span>Борьба с дисбалансом</a></span></li><li><span><a href=\"#Тестирование-модели\" data-toc-modified-id=\"Тестирование-модели-4\"><span class=\"toc-item-num\">4&nbsp;&nbsp;</span>Тестирование модели</a></span></li><li><span><a href=\"#Чек-лист-готовности-проекта\" data-toc-modified-id=\"Чек-лист-готовности-проекта-5\"><span class=\"toc-item-num\">5&nbsp;&nbsp;</span>Чек-лист готовности проекта</a></span></li></ul></div>"
   ]
  },
  {
   "cell_type": "markdown",
   "metadata": {},
   "source": [
    "# Отток клиентов"
   ]
  },
  {
   "cell_type": "markdown",
   "metadata": {},
   "source": [
    "Из «Бета-Банка» стали уходить клиенты. Каждый месяц. Немного, но заметно. Банковские маркетологи посчитали: сохранять текущих клиентов дешевле, чем привлекать новых.\n",
    "\n",
    "Нужно спрогнозировать, уйдёт клиент из банка в ближайшее время или нет. Вам предоставлены исторические данные о поведении клиентов и расторжении договоров с банком. \n",
    "\n",
    "Постройте модель с предельно большим значением *F1*-меры. Чтобы сдать проект успешно, нужно довести метрику до 0.59. Проверьте *F1*-меру на тестовой выборке самостоятельно.\n",
    "\n",
    "Дополнительно измеряйте *AUC-ROC*, сравнивайте её значение с *F1*-мерой.\n",
    "\n",
    "Источник данных: [https://www.kaggle.com/barelydedicated/bank-customer-churn-modeling](https://www.kaggle.com/barelydedicated/bank-customer-churn-modeling)"
   ]
  },
  {
   "cell_type": "markdown",
   "metadata": {},
   "source": [
    "## Подготовка данных"
   ]
  },
  {
   "cell_type": "code",
   "execution_count": 1,
   "metadata": {},
   "outputs": [],
   "source": [
    "import pandas as pd\n",
    "from sklearn.preprocessing import OrdinalEncoder\n",
    "import matplotlib.pyplot as plt\n",
    "from sklearn.tree import DecisionTreeClassifier\n",
    "from sklearn.ensemble import RandomForestClassifier\n",
    "from sklearn.linear_model import LogisticRegression\n",
    "from sklearn.metrics import accuracy_score, f1_score, roc_auc_score, roc_curve\n",
    "from sklearn.model_selection import train_test_split\n",
    "from sklearn.utils import shuffle\n",
    "import warnings\n",
    "warnings.filterwarnings('ignore')"
   ]
  },
  {
   "cell_type": "code",
   "execution_count": 2,
   "metadata": {},
   "outputs": [
    {
     "data": {
      "text/html": [
       "<div>\n",
       "<style scoped>\n",
       "    .dataframe tbody tr th:only-of-type {\n",
       "        vertical-align: middle;\n",
       "    }\n",
       "\n",
       "    .dataframe tbody tr th {\n",
       "        vertical-align: top;\n",
       "    }\n",
       "\n",
       "    .dataframe thead th {\n",
       "        text-align: right;\n",
       "    }\n",
       "</style>\n",
       "<table border=\"1\" class=\"dataframe\">\n",
       "  <thead>\n",
       "    <tr style=\"text-align: right;\">\n",
       "      <th></th>\n",
       "      <th>RowNumber</th>\n",
       "      <th>CustomerId</th>\n",
       "      <th>Surname</th>\n",
       "      <th>CreditScore</th>\n",
       "      <th>Geography</th>\n",
       "      <th>Gender</th>\n",
       "      <th>Age</th>\n",
       "      <th>Tenure</th>\n",
       "      <th>Balance</th>\n",
       "      <th>NumOfProducts</th>\n",
       "      <th>HasCrCard</th>\n",
       "      <th>IsActiveMember</th>\n",
       "      <th>EstimatedSalary</th>\n",
       "      <th>Exited</th>\n",
       "    </tr>\n",
       "  </thead>\n",
       "  <tbody>\n",
       "    <tr>\n",
       "      <th>0</th>\n",
       "      <td>1</td>\n",
       "      <td>15634602</td>\n",
       "      <td>Hargrave</td>\n",
       "      <td>619</td>\n",
       "      <td>France</td>\n",
       "      <td>Female</td>\n",
       "      <td>42</td>\n",
       "      <td>2.0</td>\n",
       "      <td>0.00</td>\n",
       "      <td>1</td>\n",
       "      <td>1</td>\n",
       "      <td>1</td>\n",
       "      <td>101348.88</td>\n",
       "      <td>1</td>\n",
       "    </tr>\n",
       "    <tr>\n",
       "      <th>1</th>\n",
       "      <td>2</td>\n",
       "      <td>15647311</td>\n",
       "      <td>Hill</td>\n",
       "      <td>608</td>\n",
       "      <td>Spain</td>\n",
       "      <td>Female</td>\n",
       "      <td>41</td>\n",
       "      <td>1.0</td>\n",
       "      <td>83807.86</td>\n",
       "      <td>1</td>\n",
       "      <td>0</td>\n",
       "      <td>1</td>\n",
       "      <td>112542.58</td>\n",
       "      <td>0</td>\n",
       "    </tr>\n",
       "    <tr>\n",
       "      <th>2</th>\n",
       "      <td>3</td>\n",
       "      <td>15619304</td>\n",
       "      <td>Onio</td>\n",
       "      <td>502</td>\n",
       "      <td>France</td>\n",
       "      <td>Female</td>\n",
       "      <td>42</td>\n",
       "      <td>8.0</td>\n",
       "      <td>159660.80</td>\n",
       "      <td>3</td>\n",
       "      <td>1</td>\n",
       "      <td>0</td>\n",
       "      <td>113931.57</td>\n",
       "      <td>1</td>\n",
       "    </tr>\n",
       "  </tbody>\n",
       "</table>\n",
       "</div>"
      ],
      "text/plain": [
       "   RowNumber  CustomerId   Surname  CreditScore Geography  Gender  Age  \\\n",
       "0          1    15634602  Hargrave          619    France  Female   42   \n",
       "1          2    15647311      Hill          608     Spain  Female   41   \n",
       "2          3    15619304      Onio          502    France  Female   42   \n",
       "\n",
       "   Tenure    Balance  NumOfProducts  HasCrCard  IsActiveMember  \\\n",
       "0     2.0       0.00              1          1               1   \n",
       "1     1.0   83807.86              1          0               1   \n",
       "2     8.0  159660.80              3          1               0   \n",
       "\n",
       "   EstimatedSalary  Exited  \n",
       "0        101348.88       1  \n",
       "1        112542.58       0  \n",
       "2        113931.57       1  "
      ]
     },
     "metadata": {},
     "output_type": "display_data"
    },
    {
     "name": "stdout",
     "output_type": "stream",
     "text": [
      "<class 'pandas.core.frame.DataFrame'>\n",
      "RangeIndex: 10000 entries, 0 to 9999\n",
      "Data columns (total 14 columns):\n",
      " #   Column           Non-Null Count  Dtype  \n",
      "---  ------           --------------  -----  \n",
      " 0   RowNumber        10000 non-null  int64  \n",
      " 1   CustomerId       10000 non-null  int64  \n",
      " 2   Surname          10000 non-null  object \n",
      " 3   CreditScore      10000 non-null  int64  \n",
      " 4   Geography        10000 non-null  object \n",
      " 5   Gender           10000 non-null  object \n",
      " 6   Age              10000 non-null  int64  \n",
      " 7   Tenure           9091 non-null   float64\n",
      " 8   Balance          10000 non-null  float64\n",
      " 9   NumOfProducts    10000 non-null  int64  \n",
      " 10  HasCrCard        10000 non-null  int64  \n",
      " 11  IsActiveMember   10000 non-null  int64  \n",
      " 12  EstimatedSalary  10000 non-null  float64\n",
      " 13  Exited           10000 non-null  int64  \n",
      "dtypes: float64(3), int64(8), object(3)\n",
      "memory usage: 1.1+ MB\n",
      "None\n"
     ]
    },
    {
     "data": {
      "text/plain": [
       "<AxesSubplot:>"
      ]
     },
     "execution_count": 2,
     "metadata": {},
     "output_type": "execute_result"
    },
    {
     "data": {
      "image/png": "[encoded data removed]",
      "text/plain": [
       "<Figure size 432x288 with 1 Axes>"
      ]
     },
     "metadata": {
      "needs_background": "light"
     },
     "output_type": "display_data"
    }
   ],
   "source": [
    "churn = pd.read_csv('/datasets/Churn.csv')\n",
    "display(churn.head(3))\n",
    "print(churn.info())\n",
    "churn['Tenure'].hist()"
   ]
  },
  {
   "cell_type": "code",
   "execution_count": 3,
   "metadata": {},
   "outputs": [
    {
     "data": {
      "text/html": [
       "<div>\n",
       "<style scoped>\n",
       "    .dataframe tbody tr th:only-of-type {\n",
       "        vertical-align: middle;\n",
       "    }\n",
       "\n",
       "    .dataframe tbody tr th {\n",
       "        vertical-align: top;\n",
       "    }\n",
       "\n",
       "    .dataframe thead th {\n",
       "        text-align: right;\n",
       "    }\n",
       "</style>\n",
       "<table border=\"1\" class=\"dataframe\">\n",
       "  <thead>\n",
       "    <tr style=\"text-align: right;\">\n",
       "      <th></th>\n",
       "      <th>RowNumber</th>\n",
       "      <th>CustomerId</th>\n",
       "      <th>Surname</th>\n",
       "      <th>CreditScore</th>\n",
       "      <th>Geography</th>\n",
       "      <th>Gender</th>\n",
       "      <th>Age</th>\n",
       "      <th>Tenure</th>\n",
       "      <th>Balance</th>\n",
       "      <th>NumOfProducts</th>\n",
       "      <th>HasCrCard</th>\n",
       "      <th>IsActiveMember</th>\n",
       "      <th>EstimatedSalary</th>\n",
       "      <th>Exited</th>\n",
       "    </tr>\n",
       "  </thead>\n",
       "  <tbody>\n",
       "    <tr>\n",
       "      <th>0</th>\n",
       "      <td>0.0</td>\n",
       "      <td>2736.0</td>\n",
       "      <td>1115.0</td>\n",
       "      <td>228.0</td>\n",
       "      <td>0.0</td>\n",
       "      <td>0.0</td>\n",
       "      <td>24.0</td>\n",
       "      <td>2.0</td>\n",
       "      <td>0.0</td>\n",
       "      <td>0.0</td>\n",
       "      <td>1.0</td>\n",
       "      <td>1.0</td>\n",
       "      <td>5068.0</td>\n",
       "      <td>1.0</td>\n",
       "    </tr>\n",
       "    <tr>\n",
       "      <th>1</th>\n",
       "      <td>1.0</td>\n",
       "      <td>3258.0</td>\n",
       "      <td>1177.0</td>\n",
       "      <td>217.0</td>\n",
       "      <td>2.0</td>\n",
       "      <td>0.0</td>\n",
       "      <td>23.0</td>\n",
       "      <td>1.0</td>\n",
       "      <td>743.0</td>\n",
       "      <td>0.0</td>\n",
       "      <td>0.0</td>\n",
       "      <td>1.0</td>\n",
       "      <td>5639.0</td>\n",
       "      <td>0.0</td>\n",
       "    </tr>\n",
       "    <tr>\n",
       "      <th>2</th>\n",
       "      <td>2.0</td>\n",
       "      <td>2104.0</td>\n",
       "      <td>2040.0</td>\n",
       "      <td>111.0</td>\n",
       "      <td>0.0</td>\n",
       "      <td>0.0</td>\n",
       "      <td>24.0</td>\n",
       "      <td>8.0</td>\n",
       "      <td>5793.0</td>\n",
       "      <td>2.0</td>\n",
       "      <td>1.0</td>\n",
       "      <td>0.0</td>\n",
       "      <td>5707.0</td>\n",
       "      <td>1.0</td>\n",
       "    </tr>\n",
       "  </tbody>\n",
       "</table>\n",
       "</div>"
      ],
      "text/plain": [
       "   RowNumber  CustomerId  Surname  CreditScore  Geography  Gender   Age  \\\n",
       "0        0.0      2736.0   1115.0        228.0        0.0     0.0  24.0   \n",
       "1        1.0      3258.0   1177.0        217.0        2.0     0.0  23.0   \n",
       "2        2.0      2104.0   2040.0        111.0        0.0     0.0  24.0   \n",
       "\n",
       "   Tenure  Balance  NumOfProducts  HasCrCard  IsActiveMember  EstimatedSalary  \\\n",
       "0     2.0      0.0            0.0        1.0             1.0           5068.0   \n",
       "1     1.0    743.0            0.0        0.0             1.0           5639.0   \n",
       "2     8.0   5793.0            2.0        1.0             0.0           5707.0   \n",
       "\n",
       "   Exited  \n",
       "0     1.0  \n",
       "1     0.0  \n",
       "2     1.0  "
      ]
     },
     "metadata": {},
     "output_type": "display_data"
    }
   ],
   "source": [
    "churn['Tenure'] = churn['Tenure'].fillna(churn['Tenure'].median())\n",
    "encoder = OrdinalEncoder()\n",
    "churn_ordinal = pd.DataFrame(encoder.fit_transform(churn),columns=churn.columns)\n",
    "display(churn_ordinal.head(3))"
   ]
  },
  {
   "cell_type": "markdown",
   "metadata": {},
   "source": [
    "В целом данные относительно чистые, только колонка Tenure не досчиталась около 10% данных, которые были заполнены медианным значением. Почему медианным? Потому что, как видно на гистограмме, есть небольшая часть значений \"1\" (около 390) и наибольшая часть значений \"10\" (около 1350). Такие разбросы влияют на среднее, но не на медиану. Также переменные класса object были закодированы с помощью Ordinal Encoder."
   ]
  },
  {
   "cell_type": "markdown",
   "metadata": {},
   "source": [
    "## Исследование задачи"
   ]
  },
  {
   "cell_type": "code",
   "execution_count": 4,
   "metadata": {},
   "outputs": [
    {
     "data": {
      "text/plain": [
       "0.0    7963\n",
       "1.0    2037\n",
       "Name: Exited, dtype: int64"
      ]
     },
     "execution_count": 4,
     "metadata": {},
     "output_type": "execute_result"
    }
   ],
   "source": [
    "# Проверка на дисбаланс классов\n",
    "churn_ordinal['Exited'].value_counts()"
   ]
  },
  {
   "cell_type": "code",
   "execution_count": 6,
   "metadata": {},
   "outputs": [
    {
     "name": "stdout",
     "output_type": "stream",
     "text": [
      "0.7856\n",
      "0.7963\n",
      "0.49370277078085645\n",
      "0.6849850378454497\n"
     ]
    }
   ],
   "source": [
    "# Разделение на train, validation, и test выборки\n",
    "target = churn_ordinal['Exited']\n",
    "features = churn_ordinal.drop('Exited', axis=1)\n",
    "features_train, features_test, target_train, target_test = train_test_split(\n",
    "    features, target, test_size=0.25, random_state=12345)\n",
    "features_train, features_valid, target_train, target_valid = train_test_split(\n",
    "    features_train, target_train, test_size=0.25, random_state=12345)\n",
    "\n",
    "# Построение модели без учета дисбаланса классов\n",
    "model = DecisionTreeClassifier(random_state=12345)\n",
    "model.fit(features_train,target_train)\n",
    "predicted_valid = model.predict(features_valid)\n",
    "accuracy_valid = accuracy_score(target_valid,predicted_valid)\n",
    "print(accuracy_valid)\n",
    "\n",
    "# Проверка модели на адекватность\n",
    "zeros = [0] * len(target)\n",
    "target_pred_constant = pd.Series(zeros)\n",
    "print(accuracy_score(target, target_pred_constant))\n",
    "\n",
    "probabilities_valid = model.predict_proba(features_valid)\n",
    "probabilities_one_valid = probabilities_valid[:, 1]\n",
    "\n",
    "# F-1 и AUC-ROC меры для модели без учета дисбаланса классов\n",
    "print(f1_score(target_valid, predicted_valid))\n",
    "print(roc_auc_score(target_valid, probabilities_one_valid))"
   ]
  },
  {
   "cell_type": "markdown",
   "metadata": {},
   "source": [
    "Заметен дисбаланс классов целевого признака, так как баланс классов не равен 1:1. Была постороена модель без учета дисбаланса классов и константная модель для проверки ее адекватности. Как и продполагалось модель не прошла тест на адекватность, так как разница с константной моделью составила менее 2%. Также были проверены меры F-1 и AUC-ROC для сравнения ее улучшения построения модели с учетом дисбаланса классов. "
   ]
  },
  {
   "cell_type": "markdown",
   "metadata": {},
   "source": [
    "## Борьба с дисбалансом"
   ]
  },
  {
   "cell_type": "code",
   "execution_count": 7,
   "metadata": {},
   "outputs": [
    {
     "name": "stdout",
     "output_type": "stream",
     "text": [
      "0.46256684491978606\n",
      "0.6624141876430206\n"
     ]
    }
   ],
   "source": [
    "# Взвешивание классов\n",
    "model = DecisionTreeClassifier(random_state=12345, class_weight='balanced')\n",
    "model.fit(features_train,target_train)\n",
    "predicted_valid = model.predict(features_valid)\n",
    "\n",
    "probabilities_valid = model.predict_proba(features_valid)\n",
    "probabilities_one_valid = probabilities_valid[:, 1]\n",
    "\n",
    "print(f1_score(target_valid, predicted_valid))\n",
    "print(roc_auc_score(target_valid, probabilities_one_valid))"
   ]
  },
  {
   "cell_type": "code",
   "execution_count": 8,
   "metadata": {},
   "outputs": [
    {
     "data": {
      "image/png": "[encoded data removed]",
      "text/plain": [
       "<Figure size 1008x576 with 1 Axes>"
      ]
     },
     "metadata": {
      "needs_background": "light"
     },
     "output_type": "display_data"
    }
   ],
   "source": [
    "fpr, tpr, thresholds = roc_curve(target_valid, probabilities_one_valid)\n",
    "\n",
    "plt.figure(figsize=(14,8))\n",
    "plt.plot([0, 1], [0, 1], linestyle='--', label='ROC-кривая случайной модели с несбалансированными тренировочными данными') # ROC-кривая случайной модели (выглядит как прямая)\n",
    "plt.plot(fpr, tpr, linestyle='--', label='Модель Случайного Леса')\n",
    "plt.xlim([0,1])\n",
    "plt.ylim([0,1])\n",
    "plt.xlabel(\"False Positive Rate\")\n",
    "plt.ylabel(\"True Positive Rate\")\n",
    "plt.title(\"ROC-кривая\")\n",
    "plt.legend()\n",
    "plt.show()"
   ]
  },
  {
   "cell_type": "code",
   "execution_count": 9,
   "metadata": {},
   "outputs": [
    {
     "name": "stdout",
     "output_type": "stream",
     "text": [
      "0.0    4503\n",
      "1.0    4488\n",
      "Name: Exited, dtype: int64\n"
     ]
    }
   ],
   "source": [
    "# Увеличение выборки\n",
    "def upsample(features, target, repeat):\n",
    "    features_zeros = features[target == 0]\n",
    "    features_ones = features[target == 1]\n",
    "    target_zeros = target[target == 0]\n",
    "    target_ones = target[target == 1]\n",
    "\n",
    "    features_upsampled = pd.concat([features_zeros] + [features_ones] * repeat)\n",
    "    target_upsampled = pd.concat([target_zeros] + [target_ones] * repeat)\n",
    "    \n",
    "    features_upsampled, target_upsampled = shuffle(\n",
    "        features_upsampled, target_upsampled, random_state=12345)\n",
    "    \n",
    "    return features_upsampled, target_upsampled\n",
    "\n",
    "features_upsampled, target_upsampled = upsample(features_train, target_train, 4)\n",
    "print(target_upsampled.value_counts())"
   ]
  },
  {
   "cell_type": "code",
   "execution_count": 10,
   "metadata": {},
   "outputs": [
    {
     "name": "stdout",
     "output_type": "stream",
     "text": [
      "0.0    1126\n",
      "1.0    1122\n",
      "Name: Exited, dtype: int64\n"
     ]
    }
   ],
   "source": [
    "# Уменьшение выборки\n",
    "def downsample(features, target, fraction):\n",
    "    features_zeros = features[target == 0]\n",
    "    features_ones = features[target == 1]\n",
    "    target_zeros = target[target == 0]\n",
    "    target_ones = target[target == 1]\n",
    "\n",
    "    features_downsampled = pd.concat(\n",
    "        [features_zeros.sample(frac=fraction, random_state=12345)] + [features_ones])\n",
    "    target_downsampled = pd.concat(\n",
    "        [target_zeros.sample(frac=fraction, random_state=12345)] + [target_ones])\n",
    "    \n",
    "    features_downsampled, target_downsampled = shuffle(\n",
    "        features_downsampled, target_downsampled, random_state=12345)\n",
    "    \n",
    "    return features_downsampled, target_downsampled\n",
    "\n",
    "features_downsampled, target_downsampled = downsample(features_train, target_train, 0.25)\n",
    "print(target_downsampled.value_counts())"
   ]
  },
  {
   "cell_type": "markdown",
   "metadata": {},
   "source": [
    "Первый метод использованный для борьбы с дисбалансом классов - взвешивание классов, это параметр моделей классификации, который придает больший вес тому классу, который является меньшим по численности. Вызов этого метода, однако, не помог ее улучшуть, а скорее наоборот незначительно ухудшил ее качество. Следующие 2 способа борьбы с дисбалансом классов это upsampling и downsampling. Это соотвественно увеличение и уменьшение выборки с заполнением объектов редкого класса. После использования этих способов соотношение классов 1:1 было достигнуто, и данные будут протестированы в следующей секции.  "
   ]
  },
  {
   "cell_type": "markdown",
   "metadata": {},
   "source": [
    "## Тестирование модели"
   ]
  },
  {
   "cell_type": "code",
   "execution_count": 11,
   "metadata": {},
   "outputs": [
    {
     "name": "stdout",
     "output_type": "stream",
     "text": [
      "F1: 0.5771604938271605\n",
      "0.8569309980637213\n"
     ]
    }
   ],
   "source": [
    "model = RandomForestClassifier(random_state=12345,class_weight='balanced')\n",
    "model.fit(features_upsampled,target_upsampled)\n",
    "predicted_valid = model.predict(features_valid)\n",
    "\n",
    "probabilities_valid = model.predict_proba(features_valid)\n",
    "probabilities_one_valid = probabilities_valid[:, 1]\n",
    "\n",
    "print(\"F1:\", f1_score(target_valid, predicted_valid))\n",
    "print(roc_auc_score(target_valid, probabilities_one_valid))"
   ]
  },
  {
   "cell_type": "code",
   "execution_count": 12,
   "metadata": {},
   "outputs": [
    {
     "data": {
      "image/png": "[encoded data removed]",
      "text/plain": [
       "<Figure size 1008x576 with 1 Axes>"
      ]
     },
     "metadata": {
      "needs_background": "light"
     },
     "output_type": "display_data"
    }
   ],
   "source": [
    "fpr, tpr, thresholds = roc_curve(target_valid, probabilities_one_valid)\n",
    "\n",
    "plt.figure(figsize=(14,8))\n",
    "plt.plot([0, 1], [0, 1], linestyle='--', label='ROC-кривая случайной модели с несбалансированными тренировочными данными') # ROC-кривая случайной модели (выглядит как прямая)\n",
    "plt.plot(fpr, tpr, linestyle='--', label='Модель Случайного Леса')\n",
    "plt.xlim([0,1])\n",
    "plt.ylim([0,1])\n",
    "plt.xlabel(\"False Positive Rate\")\n",
    "plt.ylabel(\"True Positive Rate\")\n",
    "plt.title(\"ROC-кривая\")\n",
    "plt.legend()\n",
    "plt.show()"
   ]
  },
  {
   "cell_type": "markdown",
   "metadata": {},
   "source": [
    "После применения увеличения выборки показатели F-1 и AUC-ROC заметно улучшились, что и заметно по кривой ROC. Однако, цель достичь показателя 0.59 для F-1 меры пока не покорилась."
   ]
  },
  {
   "cell_type": "code",
   "execution_count": 13,
   "metadata": {},
   "outputs": [
    {
     "name": "stdout",
     "output_type": "stream",
     "text": [
      "F1: 0.5926660059464817\n",
      "0.8615067769758845\n"
     ]
    }
   ],
   "source": [
    "model = RandomForestClassifier(random_state=12345,class_weight='balanced')\n",
    "model.fit(features_downsampled, target_downsampled)\n",
    "predicted_valid = model.predict(features_valid)\n",
    "\n",
    "probabilities_valid = model.predict_proba(features_valid)\n",
    "probabilities_one_valid = probabilities_valid[:, 1]\n",
    "\n",
    "print(\"F1:\", f1_score(target_valid, predicted_valid))\n",
    "print(roc_auc_score(target_valid, probabilities_one_valid))"
   ]
  },
  {
   "cell_type": "code",
   "execution_count": 14,
   "metadata": {},
   "outputs": [
    {
     "data": {
      "image/png": "[encoded data removed]",
      "text/plain": [
       "<Figure size 1008x576 with 1 Axes>"
      ]
     },
     "metadata": {
      "needs_background": "light"
     },
     "output_type": "display_data"
    }
   ],
   "source": [
    "fpr, tpr, thresholds = roc_curve(target_valid, probabilities_one_valid)\n",
    "\n",
    "plt.figure(figsize=(14,8))\n",
    "plt.plot([0, 1], [0, 1], linestyle='--', label='ROC-кривая случайной модели с несбалансированными тренировочными данными') # ROC-кривая случайной модели (выглядит как прямая)\n",
    "plt.plot(fpr, tpr, linestyle='--', label='Модель Случайного Леса')\n",
    "plt.xlim([0,1])\n",
    "plt.ylim([0,1])\n",
    "plt.xlabel(\"False Positive Rate\")\n",
    "plt.ylabel(\"True Positive Rate\")\n",
    "plt.title(\"ROC-кривая\")\n",
    "plt.legend()\n",
    "plt.show()"
   ]
  },
  {
   "cell_type": "markdown",
   "metadata": {},
   "source": [
    "Бинго! Уменьшение выборки улучшило модель еще больше, и показатель F-1 меры стал 0.59, что позволяет принять модель. Показатель AUC-ROC почти не изменился при уменьшении выборки по сравнению с увеличнием выборки. Осталось проверить эффективность модели и данных на тестовой выборке."
   ]
  },
  {
   "cell_type": "code",
   "execution_count": null,
   "metadata": {},
   "outputs": [],
   "source": [
    "model = RandomForestClassifier(random_state=12345,class_weight='balanced')\n",
    "model.fit(features_downsampled, target_downsampled)\n",
    "predicted_test = model.predict(features_test)\n",
    "\n",
    "probabilities_test = model.predict_proba(features_test)\n",
    "probabilities_one_test = probabilities_test[:, 1]\n",
    "\n",
    "print(\"F1:\", f1_score(target_test, predicted_test))\n",
    "print(roc_auc_score(target_test, probabilities_one_test))"
   ]
  },
  {
   "cell_type": "markdown",
   "metadata": {},
   "source": [
    "<b> Общий вывод:</b> Был исследован отток клиентов в банке, где нужно было спрогнозировать уйдет ли тот или иной клиент из банка или нет. в целевом признаке был дисбаланс классов, который сильно влиял на адекватность модели, так как константная модель заполненная нулями отработала не хуже. В итоге, были применены способы увеличения и уменьшения выборки. Последняя помогла достичь цели - получить меру F-1 с показателем 0.61 (на тестовой выборке). Метрика AUC-ROC также заметно улучшилась с 0.67 до 0.85."
   ]
  },
  {
   "cell_type": "markdown",
   "metadata": {},
   "source": [
    "## Чек-лист готовности проекта"
   ]
  },
  {
   "cell_type": "markdown",
   "metadata": {},
   "source": [
    "Поставьте 'x' в выполненных пунктах. Далее нажмите Shift+Enter."
   ]
  },
  {
   "cell_type": "markdown",
   "metadata": {},
   "source": [
    "- [x]  Jupyter Notebook открыт\n",
    "- [ ]  Весь код выполняется без ошибок\n",
    "- [ ]  Ячейки с кодом расположены в порядке исполнения\n",
    "- [ ]  Выполнен шаг 1: данные подготовлены\n",
    "- [ ]  Выполнен шаг 2: задача исследована\n",
    "    - [ ]  Исследован баланс классов\n",
    "    - [ ]  Изучены модели без учёта дисбаланса\n",
    "    - [ ]  Написаны выводы по результатам исследования\n",
    "- [ ]  Выполнен шаг 3: учтён дисбаланс\n",
    "    - [ ]  Применено несколько способов борьбы с дисбалансом\n",
    "    - [ ]  Написаны выводы по результатам исследования\n",
    "- [ ]  Выполнен шаг 4: проведено тестирование\n",
    "- [ ]  Удалось достичь *F1*-меры не менее 0.59\n",
    "- [ ]  Исследована метрика *AUC-ROC*"
   ]
  },
  {
   "cell_type": "code",
   "execution_count": null,
   "metadata": {},
   "outputs": [],
   "source": []
  }
 ],
 "metadata": {
  "ExecuteTimeLog": [
   {
    "duration": 469,
    "start_time": "2022-06-14T05:35:38.447Z"
   },
   {
    "duration": 96,
    "start_time": "2022-06-14T05:35:39.574Z"
   },
   {
    "duration": 73,
    "start_time": "2022-06-14T06:06:21.802Z"
   },
   {
    "duration": 1502,
    "start_time": "2022-06-14T06:06:41.353Z"
   },
   {
    "duration": 89,
    "start_time": "2022-06-14T06:06:47.782Z"
   },
   {
    "duration": 5,
    "start_time": "2022-06-14T06:08:03.467Z"
   },
   {
    "duration": 15,
    "start_time": "2022-06-14T06:12:57.674Z"
   },
   {
    "duration": 14,
    "start_time": "2022-06-14T06:14:41.677Z"
   },
   {
    "duration": 14,
    "start_time": "2022-06-14T06:16:03.454Z"
   },
   {
    "duration": 23,
    "start_time": "2022-06-14T06:16:12.854Z"
   },
   {
    "duration": 24,
    "start_time": "2022-06-14T06:16:25.276Z"
   },
   {
    "duration": 27,
    "start_time": "2022-06-14T06:18:55.750Z"
   },
   {
    "duration": 41,
    "start_time": "2022-06-14T06:19:02.061Z"
   },
   {
    "duration": 89,
    "start_time": "2022-06-14T06:19:43.375Z"
   },
   {
    "duration": 23,
    "start_time": "2022-06-14T06:19:46.928Z"
   },
   {
    "duration": 53,
    "start_time": "2022-06-14T06:20:06.250Z"
   },
   {
    "duration": 12,
    "start_time": "2022-06-14T06:21:08.550Z"
   },
   {
    "duration": 21,
    "start_time": "2022-06-14T06:21:23.896Z"
   },
   {
    "duration": 48,
    "start_time": "2022-06-14T06:21:49.526Z"
   },
   {
    "duration": 53,
    "start_time": "2022-06-14T06:23:04.819Z"
   },
   {
    "duration": 20,
    "start_time": "2022-06-14T06:23:31.150Z"
   },
   {
    "duration": 76,
    "start_time": "2022-06-14T06:28:39.402Z"
   },
   {
    "duration": 22,
    "start_time": "2022-06-14T06:28:45.948Z"
   },
   {
    "duration": 256,
    "start_time": "2022-06-14T06:35:44.855Z"
   },
   {
    "duration": 262,
    "start_time": "2022-06-14T06:36:12.894Z"
   },
   {
    "duration": 5,
    "start_time": "2022-06-14T06:36:32.603Z"
   },
   {
    "duration": 21,
    "start_time": "2022-06-14T06:36:38.717Z"
   },
   {
    "duration": 261,
    "start_time": "2022-06-14T06:36:54.446Z"
   },
   {
    "duration": 11,
    "start_time": "2022-06-14T06:38:38.867Z"
   },
   {
    "duration": 248,
    "start_time": "2022-06-14T06:40:05.799Z"
   },
   {
    "duration": 6,
    "start_time": "2022-06-14T06:42:30.431Z"
   },
   {
    "duration": 11,
    "start_time": "2022-06-14T06:42:47.253Z"
   },
   {
    "duration": 1006,
    "start_time": "2022-06-14T06:43:11.552Z"
   },
   {
    "duration": 876,
    "start_time": "2022-06-14T06:51:37.920Z"
   },
   {
    "duration": 5,
    "start_time": "2022-06-14T11:02:56.320Z"
   },
   {
    "duration": 1330,
    "start_time": "2022-06-14T11:04:00.946Z"
   },
   {
    "duration": 782,
    "start_time": "2022-06-14T11:04:48.280Z"
   },
   {
    "duration": 86,
    "start_time": "2022-06-14T11:09:46.613Z"
   },
   {
    "duration": 5,
    "start_time": "2022-06-14T11:10:02.799Z"
   },
   {
    "duration": 2487,
    "start_time": "2022-06-14T11:10:07.166Z"
   },
   {
    "duration": 3,
    "start_time": "2022-06-14T11:12:34.513Z"
   },
   {
    "duration": 314,
    "start_time": "2022-06-14T11:12:35.374Z"
   },
   {
    "duration": 13,
    "start_time": "2022-06-14T11:12:37.266Z"
   },
   {
    "duration": 262,
    "start_time": "2022-06-14T11:12:38.057Z"
   },
   {
    "duration": 4192,
    "start_time": "2022-06-14T11:19:47.079Z"
   },
   {
    "duration": 413,
    "start_time": "2022-06-14T11:19:51.277Z"
   },
   {
    "duration": 280,
    "start_time": "2022-06-14T11:20:08.680Z"
   },
   {
    "duration": 5,
    "start_time": "2022-06-14T11:20:19.604Z"
   },
   {
    "duration": 1172,
    "start_time": "2022-06-14T11:20:27.692Z"
   },
   {
    "duration": 821,
    "start_time": "2022-06-14T11:20:36.594Z"
   },
   {
    "duration": 7,
    "start_time": "2022-06-14T11:20:39.415Z"
   },
   {
    "duration": 1979,
    "start_time": "2022-06-14T11:20:50.754Z"
   },
   {
    "duration": 3472,
    "start_time": "2022-06-14T11:21:06.315Z"
   },
   {
    "duration": 4987,
    "start_time": "2022-06-14T11:21:30.977Z"
   },
   {
    "duration": 6411,
    "start_time": "2022-06-14T11:21:44.773Z"
   },
   {
    "duration": 7897,
    "start_time": "2022-06-14T11:21:57.463Z"
   },
   {
    "duration": 4921,
    "start_time": "2022-06-14T11:22:11.721Z"
   },
   {
    "duration": 9245,
    "start_time": "2022-06-14T11:22:23.762Z"
   },
   {
    "duration": 5023,
    "start_time": "2022-06-14T11:22:45.001Z"
   },
   {
    "duration": 239,
    "start_time": "2022-06-14T11:24:13.877Z"
   },
   {
    "duration": 276,
    "start_time": "2022-06-14T11:24:26.313Z"
   },
   {
    "duration": 244,
    "start_time": "2022-06-14T11:24:34.600Z"
   },
   {
    "duration": 255,
    "start_time": "2022-06-14T11:24:45.866Z"
   },
   {
    "duration": 339,
    "start_time": "2022-06-14T11:24:52.359Z"
   },
   {
    "duration": 417,
    "start_time": "2022-06-14T11:24:58.089Z"
   },
   {
    "duration": 507,
    "start_time": "2022-06-14T11:25:03.062Z"
   },
   {
    "duration": 400,
    "start_time": "2022-06-14T11:25:09.262Z"
   },
   {
    "duration": 533,
    "start_time": "2022-06-14T11:25:16.215Z"
   },
   {
    "duration": 620,
    "start_time": "2022-06-14T11:25:26.197Z"
   },
   {
    "duration": 623,
    "start_time": "2022-06-14T11:25:32.748Z"
   },
   {
    "duration": 742,
    "start_time": "2022-06-14T11:25:40.561Z"
   },
   {
    "duration": 481,
    "start_time": "2022-06-14T11:25:46.514Z"
   },
   {
    "duration": 3,
    "start_time": "2022-06-14T11:28:38.970Z"
   },
   {
    "duration": 1141,
    "start_time": "2022-06-14T11:29:21.664Z"
   },
   {
    "duration": 1218,
    "start_time": "2022-06-14T11:29:49.061Z"
   },
   {
    "duration": 804,
    "start_time": "2022-06-14T11:30:05.764Z"
   },
   {
    "duration": 4979,
    "start_time": "2022-06-14T11:30:13.637Z"
   },
   {
    "duration": 525,
    "start_time": "2022-06-14T11:30:25.068Z"
   },
   {
    "duration": 104,
    "start_time": "2022-06-14T11:40:46.292Z"
   },
   {
    "duration": 11,
    "start_time": "2022-06-14T11:41:33.179Z"
   },
   {
    "duration": 143,
    "start_time": "2022-06-14T11:41:50.853Z"
   },
   {
    "duration": 516289,
    "start_time": "2022-06-14T11:45:20.874Z"
   },
   {
    "duration": 9296,
    "start_time": "2022-06-14T11:54:33.076Z"
   },
   {
    "duration": 85583,
    "start_time": "2022-06-14T11:54:59.725Z"
   },
   {
    "duration": 5942,
    "start_time": "2022-06-14T11:56:44.183Z"
   },
   {
    "duration": 3597,
    "start_time": "2022-06-14T11:57:04.593Z"
   },
   {
    "duration": 5939,
    "start_time": "2022-06-14T11:57:20.895Z"
   },
   {
    "duration": 1964,
    "start_time": "2022-06-14T11:57:34.772Z"
   },
   {
    "duration": 2828,
    "start_time": "2022-06-14T11:57:43.223Z"
   },
   {
    "duration": 3470,
    "start_time": "2022-06-14T11:57:48.351Z"
   },
   {
    "duration": 4290,
    "start_time": "2022-06-14T11:57:54.470Z"
   },
   {
    "duration": 5023,
    "start_time": "2022-06-14T11:58:06.280Z"
   },
   {
    "duration": 4286,
    "start_time": "2022-06-14T11:58:18.624Z"
   },
   {
    "duration": 2940,
    "start_time": "2022-06-14T11:58:40.412Z"
   },
   {
    "duration": 17688,
    "start_time": "2022-06-14T11:58:52.573Z"
   },
   {
    "duration": 9025,
    "start_time": "2022-06-14T11:59:23.620Z"
   },
   {
    "duration": 88403,
    "start_time": "2022-06-14T12:00:58.490Z"
   },
   {
    "duration": 1062,
    "start_time": "2022-06-16T04:19:33.442Z"
   },
   {
    "duration": 280,
    "start_time": "2022-06-16T04:19:38.173Z"
   },
   {
    "duration": 8,
    "start_time": "2022-06-16T04:19:47.312Z"
   },
   {
    "duration": 1061,
    "start_time": "2022-06-16T04:19:56.406Z"
   },
   {
    "duration": 90,
    "start_time": "2022-06-16T04:22:26.284Z"
   },
   {
    "duration": 7,
    "start_time": "2022-06-16T04:22:33.596Z"
   },
   {
    "duration": 1006,
    "start_time": "2022-06-16T04:22:34.484Z"
   },
   {
    "duration": 383,
    "start_time": "2022-06-16T04:22:39.139Z"
   },
   {
    "duration": 72438,
    "start_time": "2022-06-16T04:22:43.766Z"
   },
   {
    "duration": 562,
    "start_time": "2022-06-16T04:25:21.703Z"
   },
   {
    "duration": 4,
    "start_time": "2022-06-16T04:28:45.217Z"
   },
   {
    "duration": 181,
    "start_time": "2022-06-16T04:30:15.310Z"
   },
   {
    "duration": 56,
    "start_time": "2022-06-16T04:30:18.561Z"
   },
   {
    "duration": 7,
    "start_time": "2022-06-16T04:30:35.129Z"
   },
   {
    "duration": 998,
    "start_time": "2022-06-16T04:30:45.760Z"
   },
   {
    "duration": 78,
    "start_time": "2022-06-16T04:31:04.292Z"
   },
   {
    "duration": 16,
    "start_time": "2022-06-16T04:31:23.782Z"
   },
   {
    "duration": 10,
    "start_time": "2022-06-16T04:31:24.443Z"
   },
   {
    "duration": 3806,
    "start_time": "2022-06-16T04:31:30.820Z"
   },
   {
    "duration": 612,
    "start_time": "2022-06-16T04:31:41.856Z"
   },
   {
    "duration": 11,
    "start_time": "2022-06-16T04:32:05.045Z"
   },
   {
    "duration": 550,
    "start_time": "2022-06-16T04:32:08.140Z"
   },
   {
    "duration": 10,
    "start_time": "2022-06-16T04:32:13.694Z"
   },
   {
    "duration": 464,
    "start_time": "2022-06-16T04:32:15.742Z"
   },
   {
    "duration": 13,
    "start_time": "2022-06-16T04:32:23.663Z"
   },
   {
    "duration": 699,
    "start_time": "2022-06-16T04:32:25.471Z"
   },
   {
    "duration": 11,
    "start_time": "2022-06-16T04:32:32.069Z"
   },
   {
    "duration": 541,
    "start_time": "2022-06-16T04:32:35.135Z"
   },
   {
    "duration": 78,
    "start_time": "2022-06-16T04:49:02.790Z"
   },
   {
    "duration": 69,
    "start_time": "2022-06-16T04:49:41.224Z"
   },
   {
    "duration": 3776,
    "start_time": "2022-06-16T04:50:48.244Z"
   },
   {
    "duration": 14,
    "start_time": "2022-06-16T04:52:10.595Z"
   },
   {
    "duration": 3695,
    "start_time": "2022-06-16T04:52:13.165Z"
   },
   {
    "duration": 10,
    "start_time": "2022-06-16T04:52:20.961Z"
   },
   {
    "duration": 559,
    "start_time": "2022-06-16T04:52:50.597Z"
   },
   {
    "duration": 534,
    "start_time": "2022-06-16T04:53:26.258Z"
   },
   {
    "duration": 562,
    "start_time": "2022-06-16T04:53:48.946Z"
   },
   {
    "duration": 77,
    "start_time": "2022-06-16T04:58:29.423Z"
   },
   {
    "duration": 15,
    "start_time": "2022-06-16T04:59:43.987Z"
   },
   {
    "duration": 11,
    "start_time": "2022-06-16T05:00:13.386Z"
   },
   {
    "duration": 12,
    "start_time": "2022-06-16T05:00:49.108Z"
   },
   {
    "duration": 13,
    "start_time": "2022-06-16T05:00:55.319Z"
   },
   {
    "duration": 1639,
    "start_time": "2022-06-16T05:01:33.111Z"
   },
   {
    "duration": 559,
    "start_time": "2022-06-16T05:02:35.313Z"
   },
   {
    "duration": 4,
    "start_time": "2022-06-16T05:03:54.707Z"
   },
   {
    "duration": 1605,
    "start_time": "2022-06-16T05:07:16.524Z"
   },
   {
    "duration": 12,
    "start_time": "2022-06-16T05:07:19.080Z"
   },
   {
    "duration": 3,
    "start_time": "2022-06-16T05:07:44.298Z"
   },
   {
    "duration": 198,
    "start_time": "2022-06-16T05:07:52.200Z"
   },
   {
    "duration": 567,
    "start_time": "2022-06-16T05:08:00.590Z"
   },
   {
    "duration": 191,
    "start_time": "2022-06-16T05:08:03.090Z"
   },
   {
    "duration": 68,
    "start_time": "2022-06-16T05:11:25.451Z"
   },
   {
    "duration": 179,
    "start_time": "2022-06-16T05:11:26.404Z"
   },
   {
    "duration": 47,
    "start_time": "2022-06-17T04:11:46.698Z"
   },
   {
    "duration": 1342,
    "start_time": "2022-06-17T04:11:52.445Z"
   },
   {
    "duration": 228,
    "start_time": "2022-06-17T04:11:53.789Z"
   },
   {
    "duration": 45,
    "start_time": "2022-06-17T04:11:54.161Z"
   },
   {
    "duration": 6,
    "start_time": "2022-06-17T04:11:58.708Z"
   },
   {
    "duration": 86,
    "start_time": "2022-06-17T04:12:01.280Z"
   },
   {
    "duration": 125,
    "start_time": "2022-06-17T04:16:47.262Z"
   },
   {
    "duration": 80,
    "start_time": "2022-06-17T04:16:55.235Z"
   },
   {
    "duration": 77,
    "start_time": "2022-06-17T04:16:58.828Z"
   },
   {
    "duration": 203,
    "start_time": "2022-06-17T04:17:01.807Z"
   },
   {
    "duration": 24,
    "start_time": "2022-06-17T04:17:05.088Z"
   },
   {
    "duration": 12,
    "start_time": "2022-06-17T04:17:07.620Z"
   },
   {
    "duration": 1643,
    "start_time": "2022-06-17T04:17:09.910Z"
   },
   {
    "duration": 176,
    "start_time": "2022-06-17T04:17:13.905Z"
   },
   {
    "duration": 569,
    "start_time": "2022-06-17T04:17:16.875Z"
   },
   {
    "duration": 177,
    "start_time": "2022-06-17T04:17:20.145Z"
   },
   {
    "duration": 6,
    "start_time": "2022-06-17T05:02:21.620Z"
   },
   {
    "duration": 6,
    "start_time": "2022-06-17T10:41:32.702Z"
   },
   {
    "duration": 238,
    "start_time": "2022-06-17T10:41:33.383Z"
   },
   {
    "duration": 77,
    "start_time": "2022-06-17T10:41:34.160Z"
   },
   {
    "duration": 9,
    "start_time": "2022-06-17T10:41:38.332Z"
   },
   {
    "duration": 120,
    "start_time": "2022-06-17T10:41:39.011Z"
   },
   {
    "duration": 76,
    "start_time": "2022-06-17T10:41:44.055Z"
   },
   {
    "duration": 199,
    "start_time": "2022-06-17T10:41:46.698Z"
   },
   {
    "duration": 16,
    "start_time": "2022-06-17T10:41:49.535Z"
   },
   {
    "duration": 17,
    "start_time": "2022-06-17T10:41:52.327Z"
   },
   {
    "duration": 1495,
    "start_time": "2022-06-19T15:12:36.779Z"
   },
   {
    "duration": 252,
    "start_time": "2022-06-19T15:12:38.277Z"
   },
   {
    "duration": 66,
    "start_time": "2022-06-19T15:12:41.385Z"
   },
   {
    "duration": 6,
    "start_time": "2022-06-19T15:12:44.170Z"
   },
   {
    "duration": 158,
    "start_time": "2022-06-19T15:12:49.495Z"
   },
   {
    "duration": 64,
    "start_time": "2022-06-19T15:13:15.600Z"
   },
   {
    "duration": 57,
    "start_time": "2022-06-19T15:13:45.778Z"
   },
   {
    "duration": 182,
    "start_time": "2022-06-19T15:13:59.529Z"
   },
   {
    "duration": 31,
    "start_time": "2022-06-19T15:14:08.162Z"
   },
   {
    "duration": 11,
    "start_time": "2022-06-19T15:14:17.105Z"
   },
   {
    "duration": 1277,
    "start_time": "2022-06-19T15:14:56.258Z"
   },
   {
    "duration": 175,
    "start_time": "2022-06-19T15:15:17.658Z"
   },
   {
    "duration": 445,
    "start_time": "2022-06-19T15:15:37.311Z"
   },
   {
    "duration": 193,
    "start_time": "2022-06-19T15:15:54.071Z"
   },
   {
    "duration": 464,
    "start_time": "2022-06-19T15:17:55.023Z"
   }
  ],
  "kernelspec": {
   "display_name": "Python 3 (ipykernel)",
   "language": "python",
   "name": "python3"
  },
  "language_info": {
   "codemirror_mode": {
    "name": "ipython",
    "version": 3
   },
   "file_extension": ".py",
   "mimetype": "text/x-python",
   "name": "python",
   "nbconvert_exporter": "python",
   "pygments_lexer": "ipython3",
   "version": "3.9.5"
  },
  "toc": {
   "base_numbering": 1,
   "nav_menu": {},
   "number_sections": true,
   "sideBar": true,
   "skip_h1_title": true,
   "title_cell": "Содержание",
   "title_sidebar": "Contents",
   "toc_cell": true,
   "toc_position": {},
   "toc_section_display": true,
   "toc_window_display": true
  }
 },
 "nbformat": 4,
 "nbformat_minor": 2
}
